{
 "cells": [
  {
   "cell_type": "markdown",
   "metadata": {},
   "source": [
    "# string reversal"
   ]
  },
  {
   "cell_type": "code",
   "execution_count": 6,
   "metadata": {},
   "outputs": [
    {
     "name": "stdout",
     "output_type": "stream",
     "text": [
      "qwerty\n",
      "ytrewq\n"
     ]
    }
   ],
   "source": [
    "x=input()\n",
    "r=''\n",
    "for i in range(1,len(x)+1):\n",
    "    r=r+x[-i]\n",
    "print(r)"
   ]
  },
  {
   "cell_type": "markdown",
   "metadata": {},
   "source": [
    "# method 2"
   ]
  },
  {
   "cell_type": "code",
   "execution_count": 8,
   "metadata": {},
   "outputs": [
    {
     "name": "stdout",
     "output_type": "stream",
     "text": [
      "ravi\n",
      "ivar\n"
     ]
    }
   ],
   "source": [
    "x=input()\n",
    "print(x[::-1])"
   ]
  },
  {
   "cell_type": "markdown",
   "metadata": {},
   "source": [
    "## length of string"
   ]
  },
  {
   "cell_type": "code",
   "execution_count": 10,
   "metadata": {},
   "outputs": [
    {
     "name": "stdout",
     "output_type": "stream",
     "text": [
      "qwerty\n",
      "6\n"
     ]
    }
   ],
   "source": [
    "x=input()\n",
    "length=0\n",
    "for i in x:\n",
    "    length=length+1\n",
    "print(length)"
   ]
  },
  {
   "cell_type": "markdown",
   "metadata": {},
   "source": [
    "# change the string to lower case"
   ]
  },
  {
   "cell_type": "code",
   "execution_count": 26,
   "metadata": {},
   "outputs": [
    {
     "name": "stdout",
     "output_type": "stream",
     "text": [
      "RAVI\n",
      "ravi\n"
     ]
    }
   ],
   "source": [
    "x=input()\n",
    "y=''\n",
    "for i in x:\n",
    "    if ord(i) in range(65,90):\n",
    "        i=chr(ord(i)+32)\n",
    "    y=y+i\n",
    "print(y)"
   ]
  },
  {
   "cell_type": "markdown",
   "metadata": {},
   "source": [
    "# method 2\n"
   ]
  },
  {
   "cell_type": "code",
   "execution_count": 27,
   "metadata": {},
   "outputs": [
    {
     "name": "stdout",
     "output_type": "stream",
     "text": [
      "RAVI\n",
      "ravi\n"
     ]
    }
   ],
   "source": [
    "x= input()\n",
    "print(x.lower())"
   ]
  },
  {
   "cell_type": "markdown",
   "metadata": {},
   "source": [
    "# printing the string without spaces"
   ]
  },
  {
   "cell_type": "code",
   "execution_count": 28,
   "metadata": {},
   "outputs": [
    {
     "name": "stdout",
     "output_type": "stream",
     "text": [
      "kfskf klfnl llsv\n",
      "kfskfklfnlllsv\n"
     ]
    }
   ],
   "source": [
    "x=input()\n",
    "y=''\n",
    "for i in x:\n",
    "    if i!=' ':\n",
    "        y=y+i\n",
    "print(y)"
   ]
  },
  {
   "cell_type": "markdown",
   "metadata": {},
   "source": [
    "# method 2"
   ]
  },
  {
   "cell_type": "code",
   "execution_count": 38,
   "metadata": {},
   "outputs": [
    {
     "name": "stdout",
     "output_type": "stream",
     "text": [
      "wfe dfg\n",
      "wfedfg\n"
     ]
    }
   ],
   "source": [
    "x=list(input())\n",
    "for i in x:\n",
    "    if i == ' ':\n",
    "        x.remove(' ')\n",
    "y=''\n",
    "y=y.join(x)\n",
    "print(y)"
   ]
  },
  {
   "cell_type": "code",
   "execution_count": 50,
   "metadata": {},
   "outputs": [
    {
     "name": "stdout",
     "output_type": "stream",
     "text": [
      "enter a strjfgnlkfmnbkafb\n",
      "enter a variable where to splitsfkjnkjfnb kfjbndfk\n",
      "jfgnlkfmnbkafb\n"
     ]
    }
   ],
   "source": [
    "x=input('enter a str')\n",
    "y=input('enter a variable where to split')\n",
    "x=x.split(y)\n",
    "print(\"\".join(x))"
   ]
  },
  {
   "cell_type": "markdown",
   "metadata": {},
   "source": [
    "# finding the frequency of 's' in string"
   ]
  },
  {
   "cell_type": "code",
   "execution_count": 45,
   "metadata": {},
   "outputs": [
    {
     "name": "stdout",
     "output_type": "stream",
     "text": [
      "sss\n",
      "3\n"
     ]
    }
   ],
   "source": [
    "x=input()\n",
    "count=0\n",
    "for i in x:\n",
    "    if i=='s':\n",
    "        count=count+1\n",
    "print(count)"
   ]
  },
  {
   "cell_type": "markdown",
   "metadata": {},
   "source": [
    "# method 2"
   ]
  },
  {
   "cell_type": "code",
   "execution_count": 47,
   "metadata": {},
   "outputs": [
    {
     "name": "stdout",
     "output_type": "stream",
     "text": [
      "ravitej love chicken\n",
      "enter the leter u want to know the frequency: c\n",
      "2\n"
     ]
    }
   ],
   "source": [
    "x=input()\n",
    "y=input('enter the leter u want to know the frequency: ')\n",
    "print(x.count(y))"
   ]
  },
  {
   "cell_type": "code",
   "execution_count": 49,
   "metadata": {},
   "outputs": [
    {
     "name": "stdout",
     "output_type": "stream",
     "text": [
      "2\n"
     ]
    }
   ],
   "source": [
    "x='python programming by python platforms'\n",
    "x=x.split(' ')\n",
    "COUNT=0\n",
    "for i in x:\n",
    "    if i == 'python' or i =='PYTHON':\n",
    "        COUNT=COUNT+1\n",
    "print(COUNT)"
   ]
  },
  {
   "cell_type": "markdown",
   "metadata": {},
   "source": [
    "## printing the frequency of each letter in a given string"
   ]
  },
  {
   "cell_type": "code",
   "execution_count": 11,
   "metadata": {},
   "outputs": [
    {
     "name": "stdout",
     "output_type": "stream",
     "text": [
      "p-4\n",
      "y-3\n",
      "t-3\n",
      "h-2\n",
      "o-4\n",
      "n-3\n",
      " -4\n",
      "r-3\n",
      "g-2\n",
      "a-2\n",
      "m-3\n",
      "i-1\n",
      "b-1\n",
      "l-1\n",
      "f-1\n",
      "s-1\n"
     ]
    }
   ],
   "source": [
    "x='python programming by python platforms'\n",
    "r=''\n",
    "count=0\n",
    "for i in x:\n",
    "    if i not in r:\n",
    "        r=r+i\n",
    "for i in r:\n",
    "    for j in x:\n",
    "        if i==j:\n",
    "            count=count+1\n",
    "    print(i+'-'+str(count))\n",
    "    count=0"
   ]
  },
  {
   "cell_type": "markdown",
   "metadata": {},
   "source": [
    "## method 2"
   ]
  },
  {
   "cell_type": "code",
   "execution_count": 23,
   "metadata": {},
   "outputs": [
    {
     "name": "stdout",
     "output_type": "stream",
     "text": [
      "p 4\n",
      "y 3\n",
      "t 3\n",
      "h 2\n",
      "o 4\n",
      "n 3\n",
      "  4\n",
      "r 3\n",
      "g 2\n",
      "a 2\n",
      "m 3\n",
      "i 1\n",
      "b 1\n",
      "l 1\n",
      "f 1\n",
      "s 1\n"
     ]
    }
   ],
   "source": [
    "x='python programming by python platforms'\n",
    "for i in range(len(x)):\n",
    "    count=0\n",
    "    for j in range(len(x)):\n",
    "        if (x[i]==x[j]):\n",
    "            count=count+1\n",
    "    match = True\n",
    "    k=i-1\n",
    "    while(k>=0):\n",
    "        if (x[i]==x[k]):\n",
    "            match=False\n",
    "        k=k-1\n",
    "    if (match==True):\n",
    "        print(x[i],count)"
   ]
  },
  {
   "cell_type": "code",
   "execution_count": null,
   "metadata": {},
   "outputs": [],
   "source": []
  }
 ],
 "metadata": {
  "kernelspec": {
   "display_name": "Python 3",
   "language": "python",
   "name": "python3"
  },
  "language_info": {
   "codemirror_mode": {
    "name": "ipython",
    "version": 3
   },
   "file_extension": ".py",
   "mimetype": "text/x-python",
   "name": "python",
   "nbconvert_exporter": "python",
   "pygments_lexer": "ipython3",
   "version": "3.7.3"
  }
 },
 "nbformat": 4,
 "nbformat_minor": 2
}
