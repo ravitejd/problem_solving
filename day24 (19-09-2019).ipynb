{
 "cells": [
  {
   "cell_type": "markdown",
   "metadata": {},
   "source": [
    "## Given 3 numbers a,b,c. write a function to find the largest number which is less than or equal to C and leaves a reminder b when divided by a. if not print -1"
   ]
  },
  {
   "cell_type": "code",
   "execution_count": 8,
   "metadata": {},
   "outputs": [
    {
     "name": "stdout",
     "output_type": "stream",
     "text": [
      "4 1 13\n",
      "13\n"
     ]
    }
   ],
   "source": [
    "a,b,c=map(int,input().split())\n",
    "def large(a,b,c):\n",
    "    result=-1\n",
    "    for i in range(c+1):\n",
    "        if i%a==b:\n",
    "            result=i\n",
    "    print(result)\n",
    "large(a,b,c)"
   ]
  },
  {
   "cell_type": "markdown",
   "metadata": {},
   "source": [
    "### Write a functions of the following\n",
    "#### to implement a program of Contact details using dict.\n",
    "#### to search a name in contact details. if contact exits, print the contact information, if not print not found.\n",
    "#### to delete a contact\n",
    "#### to update a contact\n",
    "#### to import a contact"
   ]
  },
  {
   "cell_type": "code",
   "execution_count": 10,
   "metadata": {},
   "outputs": [
    {
     "name": "stdout",
     "output_type": "stream",
     "text": [
      "no.of contacts 3\n",
      "bk\n",
      "57784\n",
      "vj\n",
      "578986\n",
      "jk\n",
      "68769\n",
      "what u want to do? search or delete or updatesearch\n",
      "contact namebk\n",
      "bk:57784\n",
      "what u want to do? search or delete or updateupdate\n",
      "contact namevj\n",
      "enter number5758\n",
      "contacts  {'bk': '57784', 'vj': 5758, 'jk': '68769'}\n",
      "what u want to do? search or delete or updateupdate\n",
      "contact namejh\n",
      "enter number5809\n",
      "contacts  {'bk': '57784', 'vj': 5758, 'jk': '68769', 'jh': 5809}\n",
      "what u want to do? search or delete or updatedelete\n",
      "contact_namevj\n",
      "what u want to do? search or delete or updatestop\n"
     ]
    }
   ],
   "source": [
    "def search_contact():\n",
    "    x=input(\"contact name\")\n",
    "    try:\n",
    "        result=contact[x]\n",
    "        print(x,result,sep=':')\n",
    "    except:\n",
    "        printt(x,\"not fount\")\n",
    "def delete_contact():\n",
    "    x=input(\"contact_name\")\n",
    "    try:\n",
    "        result=contact.pop(x)\n",
    "    except:\n",
    "        print(x,\"not fount\")\n",
    "def update_contact():\n",
    "    x=input(\"contact name\")\n",
    "    y=int(input('enter number'))\n",
    "    contact[x]=y\n",
    "    print('contacts ',contact)\n",
    "n=int(input('no.of contacts '))\n",
    "contact={}\n",
    "for i in range(n):\n",
    "    a=input()\n",
    "    b=input()\n",
    "    contact[a]=b\n",
    "while 1:\n",
    "    enquiry =input('what u want to do? search or delete or update')\n",
    "    if enquiry=='search':\n",
    "        search_contact()\n",
    "    elif enquiry=='delete':\n",
    "        delete_contact()\n",
    "    elif enquiry=='update':\n",
    "        update_contact()\n",
    "    elif enquiry== 'stop':\n",
    "        break\n",
    "    else:\n",
    "        print(\"wronng query\")"
   ]
  },
  {
   "cell_type": "code",
   "execution_count": null,
   "metadata": {},
   "outputs": [],
   "source": []
  }
 ],
 "metadata": {
  "kernelspec": {
   "display_name": "Python 3",
   "language": "python",
   "name": "python3"
  },
  "language_info": {
   "codemirror_mode": {
    "name": "ipython",
    "version": 3
   },
   "file_extension": ".py",
   "mimetype": "text/x-python",
   "name": "python",
   "nbconvert_exporter": "python",
   "pygments_lexer": "ipython3",
   "version": "3.7.3"
  }
 },
 "nbformat": 4,
 "nbformat_minor": 2
}
