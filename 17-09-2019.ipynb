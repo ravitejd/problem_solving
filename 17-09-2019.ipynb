{
 "cells": [
  {
   "cell_type": "markdown",
   "metadata": {},
   "source": [
    "## print alternating numbers using for loop"
   ]
  },
  {
   "cell_type": "code",
   "execution_count": 4,
   "metadata": {},
   "outputs": [
    {
     "name": "stdout",
     "output_type": "stream",
     "text": [
      "1 3 5 7 9 "
     ]
    }
   ],
   "source": [
    "for i in range(1,11,2):\n",
    "    print(i,end=' ')"
   ]
  },
  {
   "cell_type": "markdown",
   "metadata": {},
   "source": [
    "## Iterate the integers from 1 to 50, for multiples of 3 print “Fizz” and for multiples of 5 print “Buzz” and for multiples of both 3 and 5 print “FizzBuzz”."
   ]
  },
  {
   "cell_type": "code",
   "execution_count": 13,
   "metadata": {},
   "outputs": [
    {
     "name": "stdout",
     "output_type": "stream",
     "text": [
      "Fizz 3\n",
      "Buzz 5\n",
      "Fizz 6\n",
      "Fizz 9\n",
      "Buzz 10\n",
      "Fizz 12\n",
      "FizzBuzz 15\n",
      "Fizz 18\n",
      "Buzz 20\n",
      "Fizz 21\n",
      "Fizz 24\n",
      "Buzz 25\n",
      "Fizz 27\n",
      "FizzBuzz 30\n",
      "Fizz 33\n",
      "Buzz 35\n",
      "Fizz 36\n",
      "Fizz 39\n",
      "Buzz 40\n",
      "Fizz 42\n",
      "FizzBuzz 45\n",
      "Fizz 48\n",
      "Buzz 50\n"
     ]
    }
   ],
   "source": [
    "for i in range(1,51):\n",
    "    if i%3==0 and i%5==0:\n",
    "        print(\"FizzBuzz\",i)\n",
    "    elif i%3==0:\n",
    "        print(\"Fizz\",i)\n",
    "    elif i%5==0:\n",
    "        print(\"Buzz\",i)\n",
    "    "
   ]
  },
  {
   "cell_type": "markdown",
   "metadata": {},
   "source": [
    "## Program to print the multiplication table from range between 10 to 20  .(Ex: 3 x 10 = 30….)"
   ]
  },
  {
   "cell_type": "code",
   "execution_count": 7,
   "metadata": {},
   "outputs": [
    {
     "name": "stdout",
     "output_type": "stream",
     "text": [
      "3\n",
      "3 * 10 = 30\n",
      "3 * 11 = 33\n",
      "3 * 12 = 36\n",
      "3 * 13 = 39\n",
      "3 * 14 = 42\n",
      "3 * 15 = 45\n",
      "3 * 16 = 48\n",
      "3 * 17 = 51\n",
      "3 * 18 = 54\n",
      "3 * 19 = 57\n",
      "3 * 20 = 60\n"
     ]
    }
   ],
   "source": [
    "x=int(input())\n",
    "for i in range(10,21):\n",
    "    print(x,'*',i,'=',x*i)"
   ]
  },
  {
   "cell_type": "markdown",
   "metadata": {},
   "source": [
    "## Python Program to Check if a Number is Positive, Negative or 0"
   ]
  },
  {
   "cell_type": "code",
   "execution_count": 8,
   "metadata": {},
   "outputs": [
    {
     "name": "stdout",
     "output_type": "stream",
     "text": [
      "-3\n",
      "Negative\n"
     ]
    }
   ],
   "source": [
    "x=int(input())\n",
    "if x==0:\n",
    "    print('0')\n",
    "elif x>0:\n",
    "    print(\"Posetive\")\n",
    "elif x<0:\n",
    "    print(\"Negative\")"
   ]
  },
  {
   "cell_type": "markdown",
   "metadata": {},
   "source": [
    "## Python Program to Print the Fibonacci sequence"
   ]
  },
  {
   "cell_type": "code",
   "execution_count": 2,
   "metadata": {},
   "outputs": [
    {
     "name": "stdout",
     "output_type": "stream",
     "text": [
      "6\n",
      "0 1 1 2 3 5 "
     ]
    }
   ],
   "source": [
    "x=int(input())\n",
    "a=0\n",
    "b=1\n",
    "l1=[]\n",
    "l2=[]\n",
    "print(a,b,end=' ')\n",
    "for i in range(2,x):\n",
    "    c=a+b\n",
    "    a=b\n",
    "    b=c\n",
    "    print(c,end=' ')\n",
    "    "
   ]
  },
  {
   "cell_type": "markdown",
   "metadata": {},
   "source": [
    "# Python Program to Find HCF or GCD"
   ]
  },
  {
   "cell_type": "code",
   "execution_count": 28,
   "metadata": {},
   "outputs": [
    {
     "name": "stdout",
     "output_type": "stream",
     "text": [
      "24\n",
      "18\n",
      "6\n"
     ]
    }
   ],
   "source": [
    "x=int(input())\n",
    "y=int(input())\n",
    "l1=[]\n",
    "l2=[]\n",
    "for i in range(1,x):\n",
    "    if x%i==0:\n",
    "        l1.append(i)\n",
    "for i in range(1,y):\n",
    "    if y%i==0:\n",
    "        l2.append(i)\n",
    "l3=[]\n",
    "for i in l1:\n",
    "    if i in l2:\n",
    "        l3.append(i)\n",
    "print(max(l3))"
   ]
  },
  {
   "cell_type": "markdown",
   "metadata": {},
   "source": [
    "## Python Program to Find LCM"
   ]
  },
  {
   "cell_type": "code",
   "execution_count": 30,
   "metadata": {},
   "outputs": [
    {
     "name": "stdout",
     "output_type": "stream",
     "text": [
      "6\n",
      "10\n",
      "30.0\n"
     ]
    }
   ],
   "source": [
    "x=int(input())\n",
    "y=int(input())\n",
    "l1=[]\n",
    "l2=[]\n",
    "for i in range(1,x):\n",
    "    if x%i==0:\n",
    "        l1.append(i)\n",
    "for i in range(1,y):\n",
    "    if y%i==0:\n",
    "        l2.append(i)\n",
    "l3=[]\n",
    "for i in l1:\n",
    "    if i in l2:\n",
    "        l3.append(i)\n",
    "print((x*y)/max(l3))"
   ]
  },
  {
   "cell_type": "code",
   "execution_count": null,
   "metadata": {},
   "outputs": [],
   "source": []
  }
 ],
 "metadata": {
  "kernelspec": {
   "display_name": "Python 3",
   "language": "python",
   "name": "python3"
  },
  "language_info": {
   "codemirror_mode": {
    "name": "ipython",
    "version": 3
   },
   "file_extension": ".py",
   "mimetype": "text/x-python",
   "name": "python",
   "nbconvert_exporter": "python",
   "pygments_lexer": "ipython3",
   "version": "3.7.3"
  }
 },
 "nbformat": 4,
 "nbformat_minor": 2
}
