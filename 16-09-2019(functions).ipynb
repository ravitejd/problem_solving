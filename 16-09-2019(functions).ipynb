{
 "cells": [
  {
   "cell_type": "markdown",
   "metadata": {},
   "source": [
    "## Function to print all numbers divisible by 6 and not a factor of 100 in a given range(lb, ub) inclusive"
   ]
  },
  {
   "cell_type": "code",
   "execution_count": 3,
   "metadata": {},
   "outputs": [
    {
     "name": "stdout",
     "output_type": "stream",
     "text": [
      "6\n",
      "100\n",
      "6 12 18 24 30 36 42 48 54 60 66 72 78 84 90 96 "
     ]
    }
   ],
   "source": [
    "def factor(lb,up):\n",
    "    for i in range(lb,up):\n",
    "        if i%6==0 and 100%i!=0:\n",
    "            print(i,end=' ')\n",
    "lb=int(input())\n",
    "up=int(input())\n",
    "factor(lb,up)"
   ]
  },
  {
   "cell_type": "markdown",
   "metadata": {},
   "source": [
    "## Function to find the average of cubes of all even numbers in a given range(lb, ub) inclusive"
   ]
  },
  {
   "cell_type": "code",
   "execution_count": 2,
   "metadata": {},
   "outputs": [
    {
     "name": "stdout",
     "output_type": "stream",
     "text": [
      "1\n",
      "10\n",
      "200.0\n"
     ]
    }
   ],
   "source": [
    "def avg(lb,up):\n",
    "    s=0\n",
    "    count=0\n",
    "    for i in range(lb,up):\n",
    "        if i%2==0:\n",
    "            n=i**3\n",
    "            s=s+n\n",
    "            count=count+1\n",
    "    avg=s/count\n",
    "    print(avg)\n",
    "lb=int(input())\n",
    "up=int(input())\n",
    "avg(lb,up)"
   ]
  },
  {
   "cell_type": "markdown",
   "metadata": {},
   "source": [
    "## Function to generate the list of factors for a given number"
   ]
  },
  {
   "cell_type": "code",
   "execution_count": 2,
   "metadata": {},
   "outputs": [
    {
     "name": "stdout",
     "output_type": "stream",
     "text": [
      "20\n",
      "1 is factor\n",
      "2 is factor\n",
      "4 is factor\n",
      "5 is factor\n",
      "10 is factor\n"
     ]
    }
   ],
   "source": [
    "def factors(a):\n",
    "    for i in range(1,a):\n",
    "        if a%i==0:\n",
    "            print(i,\"is factor\")\n",
    "a=int(input())\n",
    "factors(a)"
   ]
  },
  {
   "cell_type": "markdown",
   "metadata": {},
   "source": [
    "## Function to calculate the factorial of a given number"
   ]
  },
  {
   "cell_type": "code",
   "execution_count": 10,
   "metadata": {},
   "outputs": [
    {
     "name": "stdout",
     "output_type": "stream",
     "text": [
      "5\n",
      "120\n"
     ]
    }
   ],
   "source": [
    "def fact(a):\n",
    "    fact=1\n",
    "    for i in range(1,a+1):\n",
    "        fact=fact*i\n",
    "    print(fact)\n",
    "a=int(input())\n",
    "fact(a)"
   ]
  },
  {
   "cell_type": "markdown",
   "metadata": {},
   "source": [
    "## Function to check if a given number is Prime"
   ]
  },
  {
   "cell_type": "code",
   "execution_count": 4,
   "metadata": {},
   "outputs": [
    {
     "name": "stdout",
     "output_type": "stream",
     "text": [
      "10\n",
      "10 is not prime\n"
     ]
    }
   ],
   "source": [
    "def prime(a):\n",
    "    flag=0\n",
    "    for i in range(2,a//2):\n",
    "        if a%i==0:\n",
    "            flag=1\n",
    "    if flag==0:\n",
    "        print(a,\"is prime\")\n",
    "    else:\n",
    "        print(a,\"is not prime\")\n",
    "a=int(input())\n",
    "prime(a)"
   ]
  },
  {
   "cell_type": "code",
   "execution_count": 16,
   "metadata": {},
   "outputs": [
    {
     "name": "stdout",
     "output_type": "stream",
     "text": [
      "10\n",
      "4.25\n"
     ]
    }
   ],
   "source": [
    "def prime_avg(a):\n",
    "    flag=0\n",
    "    s=0\n",
    "    c=0\n",
    "    for i in range(2,a+1):\n",
    "        for j in range(2,i//2+1):\n",
    "            if i%j==0:\n",
    "                flag=1\n",
    "        if flag==0:\n",
    "            s=s+i\n",
    "            c=c+1\n",
    "        flag=0\n",
    "    avg=s/c\n",
    "    print(avg)\n",
    "a=int(input())\n",
    "prime_avg(a)"
   ]
  },
  {
   "cell_type": "markdown",
   "metadata": {},
   "source": [
    "## Function to generate all Perfect numbers in a given range"
   ]
  },
  {
   "cell_type": "code",
   "execution_count": 34,
   "metadata": {},
   "outputs": [
    {
     "name": "stdout",
     "output_type": "stream",
     "text": [
      "30\n",
      "6 is perfect number\n",
      "28 is perfect number\n"
     ]
    }
   ],
   "source": [
    "def perfect(a):\n",
    "    s=0\n",
    "    for i in range(1,a):\n",
    "        for j in range(1,i):\n",
    "            if i%j==0:\n",
    "                s=s+j\n",
    "        if s==i:\n",
    "            print(i,'is perfect number')\n",
    "        s=0\n",
    "a=int(input())\n",
    "perfect(a)"
   ]
  },
  {
   "cell_type": "code",
   "execution_count": null,
   "metadata": {},
   "outputs": [],
   "source": []
  }
 ],
 "metadata": {
  "kernelspec": {
   "display_name": "Python 3",
   "language": "python",
   "name": "python3"
  },
  "language_info": {
   "codemirror_mode": {
    "name": "ipython",
    "version": 3
   },
   "file_extension": ".py",
   "mimetype": "text/x-python",
   "name": "python",
   "nbconvert_exporter": "python",
   "pygments_lexer": "ipython3",
   "version": "3.7.3"
  }
 },
 "nbformat": 4,
 "nbformat_minor": 2
}
