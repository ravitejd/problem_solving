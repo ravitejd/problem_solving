{
 "cells": [
  {
   "cell_type": "markdown",
   "metadata": {},
   "source": [
    "## Take a list of elements and add that list into another empty list"
   ]
  },
  {
   "cell_type": "code",
   "execution_count": null,
   "metadata": {},
   "outputs": [],
   "source": [
    "l=int(input('length of list'))\n",
    "x=[]\n",
    "y=[]\n",
    "for i in range(0,l):\n",
    "    x.append(int(input()))\n",
    "for i in range(0,l):\n",
    "    y.append(x[i])\n",
    "print(y)\n",
    "    "
   ]
  },
  {
   "cell_type": "markdown",
   "metadata": {},
   "source": [
    "## Sort the list of elements in ascending order and descending order."
   ]
  },
  {
   "cell_type": "code",
   "execution_count": 16,
   "metadata": {},
   "outputs": [
    {
     "name": "stdout",
     "output_type": "stream",
     "text": [
      "length of list6\n",
      "1\n",
      "2\n",
      "4\n",
      "5\n",
      "6\n",
      "3\n",
      "decending [6, 5, 4, 3, 2, 1]\n",
      "ascending [1, 2, 3, 4, 5, 6]\n"
     ]
    }
   ],
   "source": [
    "l=int(input('length of list'))\n",
    "x=[]\n",
    "for i in range(0,l):\n",
    "    x.append(int(input()))\n",
    "for i in range(0,len(x)):\n",
    "    for j in range(0,len(x)):\n",
    "        if x[j]<x[i]:\n",
    "            y=x[j]\n",
    "            x[j]=x[i]\n",
    "            x[i]=y\n",
    "print('decending',x)\n",
    "for i in range(0,len(x)):\n",
    "    for j in range(0,len(x)):\n",
    "        if x[j]>x[i]:\n",
    "            y=x[j]\n",
    "            x[j]=x[i]\n",
    "            x[i]=y\n",
    "print('ascending',x)"
   ]
  },
  {
   "cell_type": "markdown",
   "metadata": {},
   "source": [
    "## Given a two list of equal size create a set such that it shows the element from both lists in the pair."
   ]
  },
  {
   "cell_type": "code",
   "execution_count": 50,
   "metadata": {},
   "outputs": [
    {
     "name": "stdout",
     "output_type": "stream",
     "text": [
      "length of list 1 2\n",
      "list1 inputs 1\n",
      "list1 inputs 2\n",
      "length of list2 2\n",
      "list2 inputs 1\n",
      "list2 inputs 2\n",
      "[[1, 1], [2, 2]]\n"
     ]
    }
   ],
   "source": [
    "l=int(input('length of list 1 '))\n",
    "x=[]\n",
    "for i in range(0,l):\n",
    "    x.append(int(input('list1 inputs 1')))\n",
    "l=int(input('length of list2 '))\n",
    "y=[]\n",
    "for i in range(0,l):\n",
    "    y.append(int(input('list2 inputs ')))\n",
    "z=[]\n",
    "a=[]\n",
    "for j in range(0,len(x)):\n",
    "    a.append(x[j])\n",
    "    a.append(y[j])\n",
    "    z.append(a)\n",
    "    a=[]\n",
    "print(z)"
   ]
  },
  {
   "cell_type": "markdown",
   "metadata": {},
   "source": [
    "## Write a python program to print the sum and average of elements in the list."
   ]
  },
  {
   "cell_type": "code",
   "execution_count": 22,
   "metadata": {},
   "outputs": [
    {
     "name": "stdout",
     "output_type": "stream",
     "text": [
      "length of list 1 5\n",
      "list1 inputs 1\n",
      "list1 inputs 2\n",
      "list1 inputs 3\n",
      "list1 inputs 4\n",
      "list1 inputs 5\n",
      "sum 15\n",
      "avg 3.0\n"
     ]
    }
   ],
   "source": [
    "l=int(input('length of list 1 '))\n",
    "x=[]\n",
    "s=0\n",
    "for i in range(0,l):\n",
    "    x.append(int(input('list1 inputs ')))\n",
    "    s=s+x[i]\n",
    "print('sum',s)\n",
    "print('avg',s/l)"
   ]
  },
  {
   "cell_type": "markdown",
   "metadata": {},
   "source": [
    "# tuples"
   ]
  },
  {
   "cell_type": "markdown",
   "metadata": {},
   "source": [
    "## Python program to reverse the given elements in tuple."
   ]
  },
  {
   "cell_type": "code",
   "execution_count": 35,
   "metadata": {},
   "outputs": [
    {
     "name": "stdout",
     "output_type": "stream",
     "text": [
      "enter length of tuple6\n",
      "1\n",
      "2\n",
      "3\n",
      "4\n",
      "5\n",
      "6\n",
      "(6, 5, 4, 3, 2, 1)\n"
     ]
    }
   ],
   "source": [
    "t=()\n",
    "x=int(input('enter length of tuple'))\n",
    "for i in range(0,x):\n",
    "    t=t+(int(input()),)\n",
    "l=len(t)-1\n",
    "r=()\n",
    "while l>=0:\n",
    "    r=r+(t[l],)\n",
    "    l=l-1\n",
    "print(r)"
   ]
  },
  {
   "cell_type": "markdown",
   "metadata": {},
   "source": [
    "## Python program to print names in tuples using iterations"
   ]
  },
  {
   "cell_type": "code",
   "execution_count": 41,
   "metadata": {},
   "outputs": [
    {
     "name": "stdout",
     "output_type": "stream",
     "text": [
      "enter length of tuple4\n",
      "3\n",
      "ravi\n",
      "flsl\n",
      "5\n",
      "ravi is name\n",
      "flsl is name\n"
     ]
    }
   ],
   "source": [
    "t=()\n",
    "x=int(input('enter length of tuple'))\n",
    "for i in range(0,x):\n",
    "    t=t+((input()),)\n",
    "for i in range(0,x):\n",
    "    if t[i].isalpha():\n",
    "        print(t[i],'is name')"
   ]
  },
  {
   "cell_type": "markdown",
   "metadata": {},
   "source": [
    "## Take two sets and print the result using methods like Union, Difference and so on."
   ]
  },
  {
   "cell_type": "code",
   "execution_count": 47,
   "metadata": {},
   "outputs": [
    {
     "name": "stdout",
     "output_type": "stream",
     "text": [
      "{1, 2, 3, 4, 6, 7, 43, 54}\n",
      "{1, 2, 4}\n",
      "{43, 7}\n",
      "1\n",
      "False\n",
      "None\n",
      "{2, 4, 7}\n"
     ]
    }
   ],
   "source": [
    "s={1,2,43,43,7,4}\n",
    "s2={54,3,6,3,43,7}\n",
    "print(s.union(s2))\n",
    "print(s.difference(s2))\n",
    "print(s.intersection(s2))\n",
    "print(s.pop())\n",
    "print(s.isdisjoint(s2))\n",
    "print(s.discard(43))\n",
    "print(s)"
   ]
  },
  {
   "cell_type": "code",
   "execution_count": null,
   "metadata": {},
   "outputs": [],
   "source": []
  }
 ],
 "metadata": {
  "kernelspec": {
   "display_name": "Python 3",
   "language": "python",
   "name": "python3"
  },
  "language_info": {
   "codemirror_mode": {
    "name": "ipython",
    "version": 3
   },
   "file_extension": ".py",
   "mimetype": "text/x-python",
   "name": "python",
   "nbconvert_exporter": "python",
   "pygments_lexer": "ipython3",
   "version": "3.7.3"
  }
 },
 "nbformat": 4,
 "nbformat_minor": 2
}
